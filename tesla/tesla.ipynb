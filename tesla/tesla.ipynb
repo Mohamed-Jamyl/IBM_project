{
 "cells": [
  {
   "cell_type": "code",
   "execution_count": null,
   "id": "89d751a2",
   "metadata": {},
   "outputs": [],
   "source": [
    "# !pip install plotly requests beautifulsoup4 lxml\n",
    "\n",
    "import yfinance as yf\n",
    "import pandas as pd\n",
    "import matplotlib.pyplot as plt\n",
    "import plotly.graph_objs as go\n",
    "import requests\n",
    "from bs4 import BeautifulSoup"
   ]
  },
  {
   "cell_type": "code",
   "execution_count": null,
   "id": "c3f8cd98",
   "metadata": {},
   "outputs": [],
   "source": [
    "def get_stock_data(ticker):\n",
    "    stock = yf.Ticker(ticker)\n",
    "    df = stock.history(period=\"max\")\n",
    "    df.reset_index(inplace=True)\n",
    "    return df"
   ]
  },
  {
   "cell_type": "code",
   "execution_count": null,
   "metadata": {},
   "outputs": [],
   "source": [
    "\n",
    "def get_revenue_data(url, table_index=0):\n",
    "    response = requests.get(url)\n",
    "    soup = BeautifulSoup(response.text, 'html.parser')\n",
    "    tables = soup.find_all('table')\n",
    "    df = pd.read_html(str(tables[table_index]))[0]\n",
    "    df.columns = ['Date', 'Revenue']\n",
    "    df['Revenue'] = df['Revenue'].str.replace(r'\\$', '', regex=True)\n",
    "    df['Revenue'] = df['Revenue'].str.replace(',', '')\n",
    "    df = df[df['Revenue'] != '']\n",
    "    df['Revenue'] = pd.to_numeric(df['Revenue'])\n",
    "    return df\n"
   ]
  },
  {
   "cell_type": "code",
   "execution_count": null,
   "id": "4d28f220",
   "metadata": {},
   "outputs": [],
   "source": [
    "\n",
    "# Question 1: Tesla Stock Data\n",
    "tesla_df = get_stock_data(\"TSLA\")\n",
    "print(\"Tesla Stock Data Extracted\")"
   ]
  },
  {
   "cell_type": "code",
   "execution_count": null,
   "id": "2a03d707",
   "metadata": {},
   "outputs": [],
   "source": [
    "\n",
    "# Question 2: Tesla Revenue Data\n",
    "tesla_revenue_url = \"https://www.macrotrends.net/stocks/charts/TSLA/tesla/revenue\"\n",
    "tesla_revenue = get_revenue_data(tesla_revenue_url, table_index=1)\n",
    "print(\"Tesla Revenue Data Extracted\")\n"
   ]
  },
  {
   "cell_type": "code",
   "execution_count": null,
   "id": "7e63ca7c",
   "metadata": {},
   "outputs": [],
   "source": [
    "# Question 3: GameStop Stock Data\n",
    "gme_df = get_stock_data(\"GME\")\n",
    "print(\"GameStop Stock Data Extracted\")"
   ]
  },
  {
   "cell_type": "code",
   "execution_count": null,
   "id": "1c695fdd",
   "metadata": {},
   "outputs": [],
   "source": [
    "\n",
    "# Question 4: GameStop Revenue Data\n",
    "gme_revenue_url = \"https://www.macrotrends.net/stocks/charts/GME/gamestop/revenue\"\n",
    "gme_revenue = get_revenue_data(gme_revenue_url, table_index=1)\n",
    "print(\"GameStop Revenue Data Extracted\")\n"
   ]
  },
  {
   "cell_type": "code",
   "execution_count": null,
   "id": "ee717fdf",
   "metadata": {},
   "outputs": [],
   "source": [
    "\n",
    "# Question 5: Tesla Dashboard\n",
    "fig_tesla = go.Figure()\n",
    "fig_tesla.add_trace(go.Scatter(x=tesla_df['Date'], y=tesla_df['Close'], name='Tesla Stock Price'))\n",
    "fig_tesla.add_trace(go.Scatter(x=tesla_revenue['Date'], y=tesla_revenue['Revenue'], name='Tesla Revenue', yaxis='y2'))\n",
    "\n",
    "fig_tesla.update_layout(\n",
    "    title='Tesla Stock Price and Revenue Over Time',\n",
    "    xaxis=dict(title='Date'),\n",
    "    yaxis=dict(title='Stock Price'),\n",
    "    yaxis2=dict(title='Revenue', overlaying='y', side='right'),\n",
    "    legend=dict(x=0, y=1),\n",
    "    template='plotly_white'\n",
    ")\n",
    "fig_tesla.show()\n"
   ]
  },
  {
   "cell_type": "code",
   "execution_count": null,
   "id": "83ca68c1",
   "metadata": {},
   "outputs": [],
   "source": [
    "\n",
    "# Question 6: GameStop Dashboard\n",
    "fig_gme = go.Figure()\n",
    "fig_gme.add_trace(go.Scatter(x=gme_df['Date'], y=gme_df['Close'], name='GameStop Stock Price'))\n",
    "fig_gme.add_trace(go.Scatter(x=gme_revenue['Date'], y=gme_revenue['Revenue'], name='GameStop Revenue', yaxis='y2'))\n",
    "\n",
    "fig_gme.update_layout(\n",
    "    title='GameStop Stock Price and Revenue Over Time',\n",
    "    xaxis=dict(title='Date'),\n",
    "    yaxis=dict(title='Stock Price'),\n",
    "    yaxis2=dict(title='Revenue', overlaying='y', side='right'),\n",
    "    legend=dict(x=0, y=1),\n",
    "    template='plotly_white'\n",
    ")\n",
    "fig_gme.show()"
   ]
  },
  {
   "cell_type": "code",
   "execution_count": null,
   "metadata": {},
   "outputs": [],
   "source": []
  }
 ],
 "metadata": {
  "kernelspec": {
   "display_name": "Python 3",
   "language": "python",
   "name": "python3"
  },
  "language_info": {
   "codemirror_mode": {
    "name": "ipython",
    "version": 3
   },
   "file_extension": ".py",
   "mimetype": "text/x-python",
   "name": "python",
   "nbconvert_exporter": "python",
   "pygments_lexer": "ipython3",
   "version": "3.11.9"
  }
 },
 "nbformat": 4,
 "nbformat_minor": 5
}
